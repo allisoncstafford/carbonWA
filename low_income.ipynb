{
 "cells": [
  {
   "cell_type": "markdown",
   "metadata": {},
   "source": [
    "# How Many Washingtonians are Low- or Middle- Income?"
   ]
  },
  {
   "cell_type": "code",
   "execution_count": 1,
   "metadata": {},
   "outputs": [],
   "source": [
    "# import necessary packages\n",
    "import pandas as pd\n",
    "import numpy as np\n",
    "from matplotlib import pyplot as plt\n",
    "import matplotlib as mpl\n",
    "import geopandas as gpd"
   ]
  },
  {
   "cell_type": "markdown",
   "metadata": {},
   "source": [
    "## State-level data\n",
    "\n",
    "Data Source: 2018 American Community Survey via IPUMS NHGIS, University of Minnesota, www.nhgis.org"
   ]
  },
  {
   "cell_type": "code",
   "execution_count": 2,
   "metadata": {},
   "outputs": [],
   "source": [
    "states = pd.read_csv('../data/2018_state.csv')"
   ]
  },
  {
   "cell_type": "code",
   "execution_count": 3,
   "metadata": {},
   "outputs": [],
   "source": [
    "wa = states.loc[states['STATE'] == 'Washington']"
   ]
  },
  {
   "cell_type": "code",
   "execution_count": 4,
   "metadata": {},
   "outputs": [
    {
     "data": {
      "text/html": [
       "<div>\n",
       "<style scoped>\n",
       "    .dataframe tbody tr th:only-of-type {\n",
       "        vertical-align: middle;\n",
       "    }\n",
       "\n",
       "    .dataframe tbody tr th {\n",
       "        vertical-align: top;\n",
       "    }\n",
       "\n",
       "    .dataframe thead th {\n",
       "        text-align: right;\n",
       "    }\n",
       "</style>\n",
       "<table border=\"1\" class=\"dataframe\">\n",
       "  <thead>\n",
       "    <tr style=\"text-align: right;\">\n",
       "      <th></th>\n",
       "      <th>GISJOIN</th>\n",
       "      <th>YEAR</th>\n",
       "      <th>REGIONA</th>\n",
       "      <th>DIVISIONA</th>\n",
       "      <th>STATE</th>\n",
       "      <th>STATEA</th>\n",
       "      <th>COUNTYA</th>\n",
       "      <th>COUSUBA</th>\n",
       "      <th>PLACEA</th>\n",
       "      <th>TRACTA</th>\n",
       "      <th>...</th>\n",
       "      <th>AJY9M017</th>\n",
       "      <th>AJZAM001</th>\n",
       "      <th>AJ0EM001</th>\n",
       "      <th>AJ1CM001</th>\n",
       "      <th>AJ1CM002</th>\n",
       "      <th>AJ1CM003</th>\n",
       "      <th>AJ1CM004</th>\n",
       "      <th>AJ1CM005</th>\n",
       "      <th>AJ1CM006</th>\n",
       "      <th>AJ1CM007</th>\n",
       "    </tr>\n",
       "  </thead>\n",
       "  <tbody>\n",
       "    <tr>\n",
       "      <th>48</th>\n",
       "      <td>G530</td>\n",
       "      <td>2014-2018</td>\n",
       "      <td>NaN</td>\n",
       "      <td>NaN</td>\n",
       "      <td>Washington</td>\n",
       "      <td>53</td>\n",
       "      <td>NaN</td>\n",
       "      <td>NaN</td>\n",
       "      <td>NaN</td>\n",
       "      <td>NaN</td>\n",
       "      <td>...</td>\n",
       "      <td>2752</td>\n",
       "      <td>308</td>\n",
       "      <td>168</td>\n",
       "      <td>1574</td>\n",
       "      <td>6117</td>\n",
       "      <td>5945</td>\n",
       "      <td>6919</td>\n",
       "      <td>3629</td>\n",
       "      <td>1425</td>\n",
       "      <td>6190</td>\n",
       "    </tr>\n",
       "  </tbody>\n",
       "</table>\n",
       "<p>1 rows × 107 columns</p>\n",
       "</div>"
      ],
      "text/plain": [
       "   GISJOIN       YEAR REGIONA DIVISIONA       STATE STATEA COUNTYA COUSUBA  \\\n",
       "48    G530  2014-2018     NaN       NaN  Washington     53     NaN     NaN   \n",
       "\n",
       "   PLACEA TRACTA  ... AJY9M017 AJZAM001 AJ0EM001 AJ1CM001 AJ1CM002 AJ1CM003  \\\n",
       "48    NaN    NaN  ...     2752      308      168     1574     6117     5945   \n",
       "\n",
       "   AJ1CM004 AJ1CM005 AJ1CM006 AJ1CM007  \n",
       "48     6919     3629     1425     6190  \n",
       "\n",
       "[1 rows x 107 columns]"
      ]
     },
     "execution_count": 4,
     "metadata": {},
     "output_type": "execute_result"
    }
   ],
   "source": [
    "wa"
   ]
  },
  {
   "cell_type": "markdown",
   "metadata": {},
   "source": [
    "### ratio of income to poverty level - population for whom poverty status is determined"
   ]
  },
  {
   "cell_type": "code",
   "execution_count": 5,
   "metadata": {},
   "outputs": [
    {
     "data": {
      "text/html": [
       "<div>\n",
       "<style scoped>\n",
       "    .dataframe tbody tr th:only-of-type {\n",
       "        vertical-align: middle;\n",
       "    }\n",
       "\n",
       "    .dataframe tbody tr th {\n",
       "        vertical-align: top;\n",
       "    }\n",
       "\n",
       "    .dataframe thead th {\n",
       "        text-align: right;\n",
       "    }\n",
       "</style>\n",
       "<table border=\"1\" class=\"dataframe\">\n",
       "  <thead>\n",
       "    <tr style=\"text-align: right;\">\n",
       "      <th></th>\n",
       "      <th>AJY4E001</th>\n",
       "      <th>AJY4E002</th>\n",
       "      <th>AJY4E003</th>\n",
       "      <th>AJY4E004</th>\n",
       "      <th>AJY4E005</th>\n",
       "      <th>AJY4E006</th>\n",
       "      <th>AJY4E007</th>\n",
       "      <th>AJY4E008</th>\n",
       "    </tr>\n",
       "  </thead>\n",
       "  <tbody>\n",
       "    <tr>\n",
       "      <th>48</th>\n",
       "      <td>7161708</td>\n",
       "      <td>377106</td>\n",
       "      <td>444515</td>\n",
       "      <td>255057</td>\n",
       "      <td>273495</td>\n",
       "      <td>395859</td>\n",
       "      <td>177498</td>\n",
       "      <td>5238178</td>\n",
       "    </tr>\n",
       "  </tbody>\n",
       "</table>\n",
       "</div>"
      ],
      "text/plain": [
       "   AJY4E001 AJY4E002 AJY4E003 AJY4E004 AJY4E005 AJY4E006 AJY4E007 AJY4E008\n",
       "48  7161708   377106   444515   255057   273495   395859   177498  5238178"
      ]
     },
     "execution_count": 5,
     "metadata": {},
     "output_type": "execute_result"
    }
   ],
   "source": [
    "income_to_pov = wa.loc[:, 'AJY4E001': 'AJY4E008']\n",
    "income_to_pov"
   ]
  },
  {
   "cell_type": "code",
   "execution_count": 6,
   "metadata": {},
   "outputs": [],
   "source": [
    "income_to_pov.columns = ['Total', \n",
    "        'Under .50',\n",
    "        '.50 to .99',\n",
    "        '1.00 to 1.24',\n",
    "        '1.25 to 1.49',\n",
    "        '1.50 to 1.84',\n",
    "        '1.85 to 1.99',\n",
    "        '2.00 and over']\n",
    "income_to_pov.columns = income_to_pov.columns.str.replace(' ', '_').str.lower()"
   ]
  },
  {
   "cell_type": "code",
   "execution_count": 7,
   "metadata": {},
   "outputs": [],
   "source": [
    "income_to_pov = income_to_pov.astype(int)"
   ]
  },
  {
   "cell_type": "code",
   "execution_count": 8,
   "metadata": {},
   "outputs": [
    {
     "data": {
      "text/html": [
       "<div>\n",
       "<style scoped>\n",
       "    .dataframe tbody tr th:only-of-type {\n",
       "        vertical-align: middle;\n",
       "    }\n",
       "\n",
       "    .dataframe tbody tr th {\n",
       "        vertical-align: top;\n",
       "    }\n",
       "\n",
       "    .dataframe thead th {\n",
       "        text-align: right;\n",
       "    }\n",
       "</style>\n",
       "<table border=\"1\" class=\"dataframe\">\n",
       "  <thead>\n",
       "    <tr style=\"text-align: right;\">\n",
       "      <th></th>\n",
       "      <th>total</th>\n",
       "      <th>under_.50</th>\n",
       "      <th>.50_to_.99</th>\n",
       "      <th>1.00_to_1.24</th>\n",
       "      <th>1.25_to_1.49</th>\n",
       "      <th>1.50_to_1.84</th>\n",
       "      <th>1.85_to_1.99</th>\n",
       "      <th>2.00_and_over</th>\n",
       "    </tr>\n",
       "  </thead>\n",
       "  <tbody>\n",
       "    <tr>\n",
       "      <th>48</th>\n",
       "      <td>7161708</td>\n",
       "      <td>377106</td>\n",
       "      <td>444515</td>\n",
       "      <td>255057</td>\n",
       "      <td>273495</td>\n",
       "      <td>395859</td>\n",
       "      <td>177498</td>\n",
       "      <td>5238178</td>\n",
       "    </tr>\n",
       "  </tbody>\n",
       "</table>\n",
       "</div>"
      ],
      "text/plain": [
       "      total  under_.50  .50_to_.99  1.00_to_1.24  1.25_to_1.49  1.50_to_1.84  \\\n",
       "48  7161708     377106      444515        255057        273495        395859   \n",
       "\n",
       "    1.85_to_1.99  2.00_and_over  \n",
       "48        177498        5238178  "
      ]
     },
     "execution_count": 8,
     "metadata": {},
     "output_type": "execute_result"
    }
   ],
   "source": [
    "income_to_pov"
   ]
  },
  {
   "cell_type": "code",
   "execution_count": 9,
   "metadata": {},
   "outputs": [],
   "source": [
    "less_than_2x_poverty = sum(income_to_pov.loc[48, 'under_.50':'1.85_to_1.99'])"
   ]
  },
  {
   "cell_type": "code",
   "execution_count": 10,
   "metadata": {},
   "outputs": [
    {
     "data": {
      "text/plain": [
       "1923530"
      ]
     },
     "execution_count": 10,
     "metadata": {},
     "output_type": "execute_result"
    }
   ],
   "source": [
    "less_than_2x_poverty"
   ]
  },
  {
   "cell_type": "code",
   "execution_count": 11,
   "metadata": {},
   "outputs": [
    {
     "data": {
      "text/plain": [
       "48    0.268585\n",
       "Name: total, dtype: float64"
      ]
     },
     "execution_count": 11,
     "metadata": {},
     "output_type": "execute_result"
    }
   ],
   "source": [
    "less_than_2x_poverty / income_to_pov['total']"
   ]
  },
  {
   "cell_type": "markdown",
   "metadata": {},
   "source": [
    "### household income"
   ]
  },
  {
   "cell_type": "code",
   "execution_count": 12,
   "metadata": {},
   "outputs": [],
   "source": [
    "house_income = wa.loc[:,'AJY9E001':'AJY9E017'].astype(int)"
   ]
  },
  {
   "cell_type": "code",
   "execution_count": 13,
   "metadata": {},
   "outputs": [],
   "source": [
    "income_column_names = ['Total',\n",
    "        'Less than $10,000',\n",
    "        '$10,000 to $14,999',\n",
    "        '$15,000 to $19,999',\n",
    "        '$20,000 to $24,999',\n",
    "        '$25,000 to $29,999',\n",
    "        '$30,000 to $34,999',\n",
    "        '$35,000 to $39,999',\n",
    "        '$40,000 to $44,999',\n",
    "        '$45,000 to $49,999',\n",
    "        '$50,000 to $59,999',\n",
    "        '$60,000 to $74,999',\n",
    "        '$75,000 to $99,999',\n",
    "        '$100,000 to $124,999',\n",
    "        '$125,000 to $149,999',\n",
    "        '$150,000 to $199,999',\n",
    "        '$200,000 or more']"
   ]
  },
  {
   "cell_type": "code",
   "execution_count": 14,
   "metadata": {},
   "outputs": [],
   "source": [
    "house_income.columns = income_column_names\n",
    "house_income.columns = house_income.columns.str.replace(' ', '_').str.replace('$', '').str.lower()"
   ]
  },
  {
   "cell_type": "code",
   "execution_count": 15,
   "metadata": {},
   "outputs": [
    {
     "data": {
      "text/html": [
       "<div>\n",
       "<style scoped>\n",
       "    .dataframe tbody tr th:only-of-type {\n",
       "        vertical-align: middle;\n",
       "    }\n",
       "\n",
       "    .dataframe tbody tr th {\n",
       "        vertical-align: top;\n",
       "    }\n",
       "\n",
       "    .dataframe thead th {\n",
       "        text-align: right;\n",
       "    }\n",
       "</style>\n",
       "<table border=\"1\" class=\"dataframe\">\n",
       "  <thead>\n",
       "    <tr style=\"text-align: right;\">\n",
       "      <th></th>\n",
       "      <th>total</th>\n",
       "      <th>less_than_10,000</th>\n",
       "      <th>10,000_to_14,999</th>\n",
       "      <th>15,000_to_19,999</th>\n",
       "      <th>20,000_to_24,999</th>\n",
       "      <th>25,000_to_29,999</th>\n",
       "      <th>30,000_to_34,999</th>\n",
       "      <th>35,000_to_39,999</th>\n",
       "      <th>40,000_to_44,999</th>\n",
       "      <th>45,000_to_49,999</th>\n",
       "      <th>50,000_to_59,999</th>\n",
       "      <th>60,000_to_74,999</th>\n",
       "      <th>75,000_to_99,999</th>\n",
       "      <th>100,000_to_124,999</th>\n",
       "      <th>125,000_to_149,999</th>\n",
       "      <th>150,000_to_199,999</th>\n",
       "      <th>200,000_or_more</th>\n",
       "    </tr>\n",
       "  </thead>\n",
       "  <tbody>\n",
       "    <tr>\n",
       "      <th>48</th>\n",
       "      <td>2800423</td>\n",
       "      <td>144695</td>\n",
       "      <td>95789</td>\n",
       "      <td>99129</td>\n",
       "      <td>104429</td>\n",
       "      <td>107027</td>\n",
       "      <td>112120</td>\n",
       "      <td>110303</td>\n",
       "      <td>115143</td>\n",
       "      <td>105170</td>\n",
       "      <td>210273</td>\n",
       "      <td>286122</td>\n",
       "      <td>381845</td>\n",
       "      <td>281885</td>\n",
       "      <td>196331</td>\n",
       "      <td>215941</td>\n",
       "      <td>234221</td>\n",
       "    </tr>\n",
       "  </tbody>\n",
       "</table>\n",
       "</div>"
      ],
      "text/plain": [
       "      total  less_than_10,000  10,000_to_14,999  15,000_to_19,999  \\\n",
       "48  2800423            144695             95789             99129   \n",
       "\n",
       "    20,000_to_24,999  25,000_to_29,999  30,000_to_34,999  35,000_to_39,999  \\\n",
       "48            104429            107027            112120            110303   \n",
       "\n",
       "    40,000_to_44,999  45,000_to_49,999  50,000_to_59,999  60,000_to_74,999  \\\n",
       "48            115143            105170            210273            286122   \n",
       "\n",
       "    75,000_to_99,999  100,000_to_124,999  125,000_to_149,999  \\\n",
       "48            381845              281885              196331   \n",
       "\n",
       "    150,000_to_199,999  200,000_or_more  \n",
       "48              215941           234221  "
      ]
     },
     "execution_count": 15,
     "metadata": {},
     "output_type": "execute_result"
    }
   ],
   "source": [
    "house_income"
   ]
  },
  {
   "cell_type": "code",
   "execution_count": 16,
   "metadata": {},
   "outputs": [
    {
     "name": "stdout",
     "output_type": "stream",
     "text": [
      "Average people per household: 2.5573665121304887\n"
     ]
    }
   ],
   "source": [
    "people_per_house = income_to_pov.loc[48, 'total']/house_income.loc[48, 'total']\n",
    "print(f\"Average people per household: {income_to_pov.loc[48, 'total']/house_income.loc[48, 'total']}\")"
   ]
  },
  {
   "cell_type": "code",
   "execution_count": 17,
   "metadata": {},
   "outputs": [
    {
     "data": {
      "text/plain": [
       "70116"
      ]
     },
     "execution_count": 17,
     "metadata": {},
     "output_type": "execute_result"
    }
   ],
   "source": [
    "median_house_income = wa.loc[:, 'AJZAE001'].astype(int)\n",
    "median_house_income = median_house_income[48]\n",
    "median_house_income"
   ]
  },
  {
   "cell_type": "code",
   "execution_count": 18,
   "metadata": {},
   "outputs": [
    {
     "name": "stdout",
     "output_type": "stream",
     "text": [
      "HUD income levels:\n",
      "low (80% median): 56092.8\n",
      "very low (50% median): 35058.0\n",
      "extremely low(30% median): 21034.8\n"
     ]
    }
   ],
   "source": [
    "print(f\"\"\"HUD income levels:\n",
    "low (80% median): {median_house_income*.8}\n",
    "very low (50% median): {median_house_income*.5}\n",
    "extremely low(30% median): {median_house_income*.3}\"\"\")"
   ]
  },
  {
   "cell_type": "code",
   "execution_count": 19,
   "metadata": {},
   "outputs": [],
   "source": [
    "low_income = (sum(house_income.loc[48, 'less_than_10,000': '45,000_to_49,999']), \n",
    "              sum(house_income.loc[48, 'less_than_10,000': '50,000_to_59,999']))"
   ]
  },
  {
   "cell_type": "code",
   "execution_count": 20,
   "metadata": {},
   "outputs": [
    {
     "name": "stdout",
     "output_type": "stream",
     "text": [
      "Households @ HUD income levels:\n",
      "low: 993805 - 1204078\n",
      "very low: 663189\n",
      "extremely low: 339613\n"
     ]
    }
   ],
   "source": [
    "print(f\"\"\"Households @ HUD income levels:\n",
    "low: {low_income[0]} - {low_income[1]}\n",
    "very low: {sum(house_income.loc[48, 'less_than_10,000': '30,000_to_34,999'])}\n",
    "extremely low: {sum(house_income.loc[48, 'less_than_10,000': '15,000_to_19,999'])}\"\"\")"
   ]
  },
  {
   "cell_type": "code",
   "execution_count": 21,
   "metadata": {},
   "outputs": [
    {
     "name": "stdout",
     "output_type": "stream",
     "text": [
      "proportion of households that are low income: 0.35487674540596187 - 0.4299629020330143\n"
     ]
    }
   ],
   "source": [
    "print(f\"proportion of households that are low income: {low_income[0]/house_income.loc[48, 'total']} - {low_income[1]/house_income.loc[48, 'total']}\")"
   ]
  },
  {
   "cell_type": "code",
   "execution_count": 22,
   "metadata": {},
   "outputs": [
    {
     "name": "stdout",
     "output_type": "stream",
     "text": [
      "people in low income households based on avg household size: 2583893.0 - 3130602.8000000003\n"
     ]
    }
   ],
   "source": [
    "print(f\"people in low income households based on avg household size: {low_income[0]*2.6} - {low_income[1]*2.6}\")"
   ]
  },
  {
   "cell_type": "markdown",
   "metadata": {},
   "source": [
    "## Low-moderate Income Households \n",
    "\n",
    "80% of Washington State Median household income"
   ]
  },
  {
   "cell_type": "code",
   "execution_count": 23,
   "metadata": {},
   "outputs": [],
   "source": [
    "# extracting start and end values from column names\n",
    "income_cols = []\n",
    "for i, col in enumerate(house_income.columns):\n",
    "    splits = col.replace(',', '').split('_')\n",
    "    income_range = [np.nan, np.nan]\n",
    "    if splits[0].isnumeric():\n",
    "        income_range[0] = int(splits[0])\n",
    "    if len(splits)>1 and splits[2].isnumeric():\n",
    "        income_range[1] = int(splits[2])\n",
    "    income_cols.append(income_range)"
   ]
  },
  {
   "cell_type": "code",
   "execution_count": 24,
   "metadata": {},
   "outputs": [],
   "source": [
    "def get_col(n, cols):\n",
    "    \"\"\"returns the index and range of the column where n falls within the column range\n",
    "    params:\n",
    "      n: value\n",
    "      cols: list of lists [[col0_min, col0_max], [col1_min, col1_max], [col2_min, col2_max], ...]\n",
    "    returns:\n",
    "      (index, range_min, range_max)\"\"\"\n",
    "    for i, col in enumerate(cols):\n",
    "        if (i == 0) or (n > col[1] and not np.isnan(col[1])):\n",
    "            continue\n",
    "        return i\n",
    "\n",
    "def cal_partial_col(threshold, col_min, col_max, n_hh):\n",
    "    \"\"\"returns the number of households proportionate to the location of the threshold within the range of incomes\n",
    "    \"\"\"\n",
    "    return (threshold - col_min) / (col_max - col_min) * n_hh\n",
    "\n",
    "def est_households(est_hh, threshold, income_cols, house_income):\n",
    "    \"\"\"Estimates the number of households with incomes below the threshold\n",
    "    \n",
    "    params:\n",
    "      est_hh: data frame with column [threshold name]_threshold \"\"\"\n",
    "    est_hh['column_i'] = est_hh[threshold +'_threshold'].apply(lambda x: get_col(x, income_cols))\n",
    "    est_hh['col_min'] = [income_cols[i][0] for i in est_hh['column_i']]\n",
    "    est_hh['col_max'] = [income_cols[i][1] for i in est_hh['column_i']]\n",
    "    est_hh['sum_below'] = [sum(house_income.iloc[index, 1:column]) \n",
    "                               for index, column in enumerate(est_hh['column_i'])]\n",
    "    est_hh['partial_ratio'] = ((est_hh[threshold +'_threshold'] - est_hh['col_min']) /\n",
    "                             (est_hh['col_max'] - est_hh['col_min']))\n",
    "    est_hh['n_hh_in_band'] = [house_income.iloc[index, column] for index, column in enumerate(est_hh['column_i'])]\n",
    "    est_hh['total_hh_' + threshold] = est_hh['sum_below'] + est_hh['n_hh_in_band']*est_hh['partial_ratio']\n",
    "    return est_hh.drop(columns=['column_i', 'col_min', 'col_max', 'sum_below', 'partial_ratio', 'n_hh_in_band'])"
   ]
  },
  {
   "cell_type": "code",
   "execution_count": 25,
   "metadata": {},
   "outputs": [],
   "source": [
    "income_80 = .8 * median_house_income\n",
    "income_75 = .75 * median_house_income\n",
    "income_70 = .70 * median_house_income\n",
    "income_65 = .65 * median_house_income\n",
    "income_60 = .60 * median_house_income\n",
    "income_55 = .55 * median_house_income\n",
    "income_50 = .50 * median_house_income"
   ]
  },
  {
   "cell_type": "code",
   "execution_count": 26,
   "metadata": {},
   "outputs": [],
   "source": [
    "wa_households = wa.loc[:, 'STATE':'STATEA'].copy()"
   ]
  },
  {
   "cell_type": "code",
   "execution_count": 27,
   "metadata": {},
   "outputs": [],
   "source": [
    "wa_households['80_threshold'] = income_80\n",
    "wa_households['75_threshold'] = income_75\n",
    "wa_households['70_threshold'] = income_70\n",
    "wa_households['65_threshold'] = income_65\n",
    "wa_households['60_threshold'] = income_60\n",
    "wa_households['55_threshold'] = income_55\n",
    "wa_households['50_threshold'] = income_50\n",
    "wa_households['avg_household_count'] = people_per_house"
   ]
  },
  {
   "cell_type": "code",
   "execution_count": 28,
   "metadata": {},
   "outputs": [],
   "source": [
    "wa_households = est_households(wa_households, '80', income_cols, house_income)\n",
    "wa_households = est_households(wa_households, '75', income_cols, house_income)\n",
    "wa_households = est_households(wa_households, '70', income_cols, house_income)\n",
    "wa_households = est_households(wa_households, '65', income_cols, house_income)\n",
    "wa_households = est_households(wa_households, '60', income_cols, house_income)\n",
    "wa_households = est_households(wa_households, '55', income_cols, house_income)\n",
    "wa_households = est_households(wa_households, '50', income_cols, house_income)\n",
    "\n",
    "\n",
    "# wa_people = wa_households * wa_households['avg_household_count'], 0)"
   ]
  },
  {
   "cell_type": "code",
   "execution_count": 29,
   "metadata": {},
   "outputs": [
    {
     "data": {
      "text/html": [
       "<div>\n",
       "<style scoped>\n",
       "    .dataframe tbody tr th:only-of-type {\n",
       "        vertical-align: middle;\n",
       "    }\n",
       "\n",
       "    .dataframe tbody tr th {\n",
       "        vertical-align: top;\n",
       "    }\n",
       "\n",
       "    .dataframe thead th {\n",
       "        text-align: right;\n",
       "    }\n",
       "</style>\n",
       "<table border=\"1\" class=\"dataframe\">\n",
       "  <thead>\n",
       "    <tr style=\"text-align: right;\">\n",
       "      <th></th>\n",
       "      <th>48</th>\n",
       "    </tr>\n",
       "  </thead>\n",
       "  <tbody>\n",
       "    <tr>\n",
       "      <th>STATE</th>\n",
       "      <td>Washington</td>\n",
       "    </tr>\n",
       "    <tr>\n",
       "      <th>STATEA</th>\n",
       "      <td>53</td>\n",
       "    </tr>\n",
       "    <tr>\n",
       "      <th>80_threshold</th>\n",
       "      <td>56092.8</td>\n",
       "    </tr>\n",
       "    <tr>\n",
       "      <th>75_threshold</th>\n",
       "      <td>52587</td>\n",
       "    </tr>\n",
       "    <tr>\n",
       "      <th>70_threshold</th>\n",
       "      <td>49081.2</td>\n",
       "    </tr>\n",
       "    <tr>\n",
       "      <th>65_threshold</th>\n",
       "      <td>45575.4</td>\n",
       "    </tr>\n",
       "    <tr>\n",
       "      <th>60_threshold</th>\n",
       "      <td>42069.6</td>\n",
       "    </tr>\n",
       "    <tr>\n",
       "      <th>55_threshold</th>\n",
       "      <td>38563.8</td>\n",
       "    </tr>\n",
       "    <tr>\n",
       "      <th>50_threshold</th>\n",
       "      <td>35058</td>\n",
       "    </tr>\n",
       "    <tr>\n",
       "      <th>avg_household_count</th>\n",
       "      <td>2.55737</td>\n",
       "    </tr>\n",
       "    <tr>\n",
       "      <th>total_hh_80</th>\n",
       "      <td>1.12193e+06</td>\n",
       "    </tr>\n",
       "    <tr>\n",
       "      <th>total_hh_75</th>\n",
       "      <td>1.04821e+06</td>\n",
       "    </tr>\n",
       "    <tr>\n",
       "      <th>total_hh_70</th>\n",
       "      <td>974496</td>\n",
       "    </tr>\n",
       "    <tr>\n",
       "      <th>total_hh_65</th>\n",
       "      <td>900740</td>\n",
       "    </tr>\n",
       "    <tr>\n",
       "      <th>total_hh_60</th>\n",
       "      <td>821162</td>\n",
       "    </tr>\n",
       "    <tr>\n",
       "      <th>total_hh_55</th>\n",
       "      <td>741824</td>\n",
       "    </tr>\n",
       "    <tr>\n",
       "      <th>total_hh_50</th>\n",
       "      <td>664469</td>\n",
       "    </tr>\n",
       "  </tbody>\n",
       "</table>\n",
       "</div>"
      ],
      "text/plain": [
       "                              48\n",
       "STATE                 Washington\n",
       "STATEA                        53\n",
       "80_threshold             56092.8\n",
       "75_threshold               52587\n",
       "70_threshold             49081.2\n",
       "65_threshold             45575.4\n",
       "60_threshold             42069.6\n",
       "55_threshold             38563.8\n",
       "50_threshold               35058\n",
       "avg_household_count      2.55737\n",
       "total_hh_80          1.12193e+06\n",
       "total_hh_75          1.04821e+06\n",
       "total_hh_70               974496\n",
       "total_hh_65               900740\n",
       "total_hh_60               821162\n",
       "total_hh_55               741824\n",
       "total_hh_50               664469"
      ]
     },
     "execution_count": 29,
     "metadata": {},
     "output_type": "execute_result"
    }
   ],
   "source": [
    "wa_households.T"
   ]
  },
  {
   "cell_type": "code",
   "execution_count": 30,
   "metadata": {},
   "outputs": [],
   "source": [
    "wa_people = wa_households.loc[:, 'total_hh_80':'total_hh_50'] * wa_households.loc[48, 'avg_household_count']\n",
    "wa_people.columns = [col.replace('_hh_', '') for col in wa_people.columns]"
   ]
  },
  {
   "cell_type": "code",
   "execution_count": 31,
   "metadata": {},
   "outputs": [
    {
     "data": {
      "text/html": [
       "<div>\n",
       "<style scoped>\n",
       "    .dataframe tbody tr th:only-of-type {\n",
       "        vertical-align: middle;\n",
       "    }\n",
       "\n",
       "    .dataframe tbody tr th {\n",
       "        vertical-align: top;\n",
       "    }\n",
       "\n",
       "    .dataframe thead th {\n",
       "        text-align: right;\n",
       "    }\n",
       "</style>\n",
       "<table border=\"1\" class=\"dataframe\">\n",
       "  <thead>\n",
       "    <tr style=\"text-align: right;\">\n",
       "      <th></th>\n",
       "      <th>total80</th>\n",
       "      <th>total75</th>\n",
       "      <th>total70</th>\n",
       "      <th>total65</th>\n",
       "      <th>total60</th>\n",
       "      <th>total55</th>\n",
       "      <th>total50</th>\n",
       "    </tr>\n",
       "  </thead>\n",
       "  <tbody>\n",
       "    <tr>\n",
       "      <th>48</th>\n",
       "      <td>2.869194e+06</td>\n",
       "      <td>2.680652e+06</td>\n",
       "      <td>2.492144e+06</td>\n",
       "      <td>2.303523e+06</td>\n",
       "      <td>2.100011e+06</td>\n",
       "      <td>1.897117e+06</td>\n",
       "      <td>1.699290e+06</td>\n",
       "    </tr>\n",
       "  </tbody>\n",
       "</table>\n",
       "</div>"
      ],
      "text/plain": [
       "         total80       total75       total70       total65       total60  \\\n",
       "48  2.869194e+06  2.680652e+06  2.492144e+06  2.303523e+06  2.100011e+06   \n",
       "\n",
       "         total55       total50  \n",
       "48  1.897117e+06  1.699290e+06  "
      ]
     },
     "execution_count": 31,
     "metadata": {},
     "output_type": "execute_result"
    }
   ],
   "source": [
    "wa_people"
   ]
  },
  {
   "cell_type": "code",
   "execution_count": 32,
   "metadata": {},
   "outputs": [
    {
     "name": "stdout",
     "output_type": "stream",
     "text": [
      "% of washingtonias in households that earn less than 80% of state median income: 0.400629814222574\n"
     ]
    }
   ],
   "source": [
    "print(f\"% of washingtonias in households that earn less than 80% of state median income: {wa_people.loc[48, 'total80']/income_to_pov.loc[48, 'total']}\")"
   ]
  },
  {
   "cell_type": "markdown",
   "metadata": {},
   "source": [
    "### Visualizing WA State Incomes"
   ]
  },
  {
   "cell_type": "code",
   "execution_count": 33,
   "metadata": {},
   "outputs": [
    {
     "data": {
      "text/plain": [
       "array([2800423,  144695,   95789,   99129,  104429,  107027,  112120,\n",
       "        110303,  115143,  105170,  210273,  286122,  381845,  281885,\n",
       "        196331,  215941,  234221])"
      ]
     },
     "execution_count": 33,
     "metadata": {},
     "output_type": "execute_result"
    }
   ],
   "source": [
    "house_income.values[0]"
   ]
  },
  {
   "cell_type": "code",
   "execution_count": 34,
   "metadata": {},
   "outputs": [
    {
     "data": {
      "text/plain": [
       "Text(0.5, 0, 'Household Income Range')"
      ]
     },
     "execution_count": 34,
     "metadata": {},
     "output_type": "execute_result"
    },
    {
     "data": {
      "image/png": "[encoded data removed]",
      "text/plain": [
       "<Figure size 864x576 with 1 Axes>"
      ]
     },
     "metadata": {
      "needs_background": "light"
     },
     "output_type": "display_data"
    }
   ],
   "source": [
    "# this visualization distorts perception due to the variable size of the buckets\n",
    "\n",
    "fig, ax = plt.subplots(figsize=(12,8))\n",
    "x_labels = [x.replace('$', '') for x in income_column_names[1:]]\n",
    "plt.bar(x_labels, house_income.values[0][1:])\n",
    "plt.xticks(rotation='vertical')\n",
    "plt.title('Number of Washington Households by Income Level', fontsize=20)\n",
    "plt.ylabel('Number of Households', fontsize=14)\n",
    "plt.xlabel('Household Income Range', fontsize=14)\n"
   ]
  },
  {
   "cell_type": "code",
   "execution_count": 35,
   "metadata": {},
   "outputs": [
    {
     "data": {
      "image/png": "[encoded data removed]",
      "text/plain": [
       "<Figure size 864x576 with 1 Axes>"
      ]
     },
     "metadata": {
      "needs_background": "light"
     },
     "output_type": "display_data"
    }
   ],
   "source": [
    "# this plot makes the bucket size the same (with the exception of 200k+)\n",
    "x_labels = ['0 to 49,999', '50,000 to 99,999', '100,000 to 149,999', '150,000 to 199,999', '200,000+']\n",
    "values = house_income.values[0][1:]\n",
    "y_values = [sum(values[0:9]), sum(values[9:12]), sum(values[12:14]), values[14], values[15]]\n",
    "\n",
    "fig, ax = plt.subplots(figsize=(12,8))\n",
    "plt.bar(x_labels, y_values)\n",
    "\n",
    "# add commas to y-axis labels\n",
    "ax.get_yaxis().set_major_formatter(mpl.ticker.FuncFormatter(lambda x, p: format(int(x), ',')))\n",
    "\n",
    "plt.title('Number of Washington Households by Income Level', fontsize=20)\n",
    "plt.ylabel('Number of Households', fontsize=18)\n",
    "plt.xlabel('Household Income Range', fontsize=18)\n",
    "\n",
    "# Hide the right and top spines\n",
    "ax.spines['right'].set_visible(False)\n",
    "ax.spines['top'].set_visible(False)\n",
    "\n",
    "\n",
    "plt.tight_layout()\n",
    "plt.savefig('./images/hh_income0_200k.png')"
   ]
  },
  {
   "cell_type": "code",
   "execution_count": 36,
   "metadata": {},
   "outputs": [
    {
     "data": {
      "image/png": "[encoded data removed]",
      "text/plain": [
       "<Figure size 864x576 with 1 Axes>"
      ]
     },
     "metadata": {
      "needs_background": "light"
     },
     "output_type": "display_data"
    }
   ],
   "source": [
    "# show distribution of household incomes 10 to 50k\n",
    "fig, ax = plt.subplots(figsize=(12,8))\n",
    "x_labels = [x.replace('$', '') for x in income_column_names[1:10]]\n",
    "plt.bar(x_labels, house_income.values[0][1:10])\n",
    "\n",
    "# Hide the right and top spines\n",
    "ax.spines['right'].set_visible(False)\n",
    "ax.spines['top'].set_visible(False)\n",
    "\n",
    "# Add and format labels\n",
    "plt.title('Number of Washington Households by Income Level: 0-50k', fontsize=20)\n",
    "plt.ylabel('Number of Households', fontsize=14)\n",
    "plt.xlabel('Household Income Range', fontsize=14)\n",
    "plt.xticks(rotation='vertical')\n",
    "\n",
    "# add commas to y-axis labels\n",
    "ax.get_yaxis().set_major_formatter(mpl.ticker.FuncFormatter(lambda x, p: format(int(x), ',')))\n",
    "\n",
    "plt.tight_layout()\n",
    "plt.savefig('./images/hh_income0_50k.png')"
   ]
  },
  {
   "cell_type": "markdown",
   "metadata": {},
   "source": [
    "## County Level Data"
   ]
  },
  {
   "cell_type": "code",
   "execution_count": 37,
   "metadata": {},
   "outputs": [],
   "source": [
    "counties = pd.read_csv('../data/2018_county.csv', encoding='latin-1')"
   ]
  },
  {
   "cell_type": "code",
   "execution_count": 38,
   "metadata": {},
   "outputs": [],
   "source": [
    "wa_counties = counties[counties['STATE'] == 'Washington']"
   ]
  },
  {
   "cell_type": "code",
   "execution_count": 39,
   "metadata": {},
   "outputs": [
    {
     "name": "stdout",
     "output_type": "stream",
     "text": [
      "<class 'pandas.core.frame.DataFrame'>\n",
      "Int64Index: 39 entries, 2954 to 2992\n",
      "Columns: 108 entries, GISJOIN to AJ1CM007\n",
      "dtypes: object(108)\n",
      "memory usage: 33.2+ KB\n"
     ]
    }
   ],
   "source": [
    "# check for correct county count\n",
    "wa_counties.info()"
   ]
  },
  {
   "cell_type": "code",
   "execution_count": 40,
   "metadata": {},
   "outputs": [
    {
     "data": {
      "text/html": [
       "<div>\n",
       "<style scoped>\n",
       "    .dataframe tbody tr th:only-of-type {\n",
       "        vertical-align: middle;\n",
       "    }\n",
       "\n",
       "    .dataframe tbody tr th {\n",
       "        vertical-align: top;\n",
       "    }\n",
       "\n",
       "    .dataframe thead th {\n",
       "        text-align: right;\n",
       "    }\n",
       "</style>\n",
       "<table border=\"1\" class=\"dataframe\">\n",
       "  <thead>\n",
       "    <tr style=\"text-align: right;\">\n",
       "      <th></th>\n",
       "      <th>GISJOIN</th>\n",
       "      <th>YEAR</th>\n",
       "      <th>REGIONA</th>\n",
       "      <th>DIVISIONA</th>\n",
       "      <th>STATE</th>\n",
       "      <th>STATEA</th>\n",
       "      <th>COUNTY</th>\n",
       "      <th>COUNTYA</th>\n",
       "      <th>COUSUBA</th>\n",
       "      <th>PLACEA</th>\n",
       "      <th>...</th>\n",
       "      <th>AJY9M017</th>\n",
       "      <th>AJZAM001</th>\n",
       "      <th>AJ0EM001</th>\n",
       "      <th>AJ1CM001</th>\n",
       "      <th>AJ1CM002</th>\n",
       "      <th>AJ1CM003</th>\n",
       "      <th>AJ1CM004</th>\n",
       "      <th>AJ1CM005</th>\n",
       "      <th>AJ1CM006</th>\n",
       "      <th>AJ1CM007</th>\n",
       "    </tr>\n",
       "  </thead>\n",
       "  <tbody>\n",
       "    <tr>\n",
       "      <th>2954</th>\n",
       "      <td>G5300010</td>\n",
       "      <td>2014-2018</td>\n",
       "      <td>NaN</td>\n",
       "      <td>NaN</td>\n",
       "      <td>Washington</td>\n",
       "      <td>53</td>\n",
       "      <td>Adams County</td>\n",
       "      <td>001</td>\n",
       "      <td>NaN</td>\n",
       "      <td>NaN</td>\n",
       "      <td>...</td>\n",
       "      <td>60</td>\n",
       "      <td>5961</td>\n",
       "      <td>1088</td>\n",
       "      <td>90</td>\n",
       "      <td>298</td>\n",
       "      <td>298</td>\n",
       "      <td>317</td>\n",
       "      <td>181</td>\n",
       "      <td>19</td>\n",
       "      <td>279</td>\n",
       "    </tr>\n",
       "    <tr>\n",
       "      <th>2955</th>\n",
       "      <td>G5300030</td>\n",
       "      <td>2014-2018</td>\n",
       "      <td>NaN</td>\n",
       "      <td>NaN</td>\n",
       "      <td>Washington</td>\n",
       "      <td>53</td>\n",
       "      <td>Asotin County</td>\n",
       "      <td>003</td>\n",
       "      <td>NaN</td>\n",
       "      <td>NaN</td>\n",
       "      <td>...</td>\n",
       "      <td>85</td>\n",
       "      <td>2558</td>\n",
       "      <td>1546</td>\n",
       "      <td>97</td>\n",
       "      <td>366</td>\n",
       "      <td>366</td>\n",
       "      <td>410</td>\n",
       "      <td>211</td>\n",
       "      <td>22</td>\n",
       "      <td>370</td>\n",
       "    </tr>\n",
       "    <tr>\n",
       "      <th>2956</th>\n",
       "      <td>G5300050</td>\n",
       "      <td>2014-2018</td>\n",
       "      <td>NaN</td>\n",
       "      <td>NaN</td>\n",
       "      <td>Washington</td>\n",
       "      <td>53</td>\n",
       "      <td>Benton County</td>\n",
       "      <td>005</td>\n",
       "      <td>NaN</td>\n",
       "      <td>NaN</td>\n",
       "      <td>...</td>\n",
       "      <td>358</td>\n",
       "      <td>2031</td>\n",
       "      <td>666</td>\n",
       "      <td>290</td>\n",
       "      <td>1074</td>\n",
       "      <td>1060</td>\n",
       "      <td>1091</td>\n",
       "      <td>521</td>\n",
       "      <td>111</td>\n",
       "      <td>1068</td>\n",
       "    </tr>\n",
       "    <tr>\n",
       "      <th>2957</th>\n",
       "      <td>G5300070</td>\n",
       "      <td>2014-2018</td>\n",
       "      <td>NaN</td>\n",
       "      <td>NaN</td>\n",
       "      <td>Washington</td>\n",
       "      <td>53</td>\n",
       "      <td>Chelan County</td>\n",
       "      <td>007</td>\n",
       "      <td>NaN</td>\n",
       "      <td>NaN</td>\n",
       "      <td>...</td>\n",
       "      <td>217</td>\n",
       "      <td>2615</td>\n",
       "      <td>1085</td>\n",
       "      <td>202</td>\n",
       "      <td>807</td>\n",
       "      <td>810</td>\n",
       "      <td>814</td>\n",
       "      <td>357</td>\n",
       "      <td>37</td>\n",
       "      <td>826</td>\n",
       "    </tr>\n",
       "    <tr>\n",
       "      <th>2958</th>\n",
       "      <td>G5300090</td>\n",
       "      <td>2014-2018</td>\n",
       "      <td>NaN</td>\n",
       "      <td>NaN</td>\n",
       "      <td>Washington</td>\n",
       "      <td>53</td>\n",
       "      <td>Clallam County</td>\n",
       "      <td>009</td>\n",
       "      <td>NaN</td>\n",
       "      <td>NaN</td>\n",
       "      <td>...</td>\n",
       "      <td>192</td>\n",
       "      <td>1998</td>\n",
       "      <td>952</td>\n",
       "      <td>191</td>\n",
       "      <td>758</td>\n",
       "      <td>746</td>\n",
       "      <td>799</td>\n",
       "      <td>274</td>\n",
       "      <td>82</td>\n",
       "      <td>791</td>\n",
       "    </tr>\n",
       "  </tbody>\n",
       "</table>\n",
       "<p>5 rows × 108 columns</p>\n",
       "</div>"
      ],
      "text/plain": [
       "       GISJOIN       YEAR REGIONA DIVISIONA       STATE STATEA  \\\n",
       "2954  G5300010  2014-2018     NaN       NaN  Washington     53   \n",
       "2955  G5300030  2014-2018     NaN       NaN  Washington     53   \n",
       "2956  G5300050  2014-2018     NaN       NaN  Washington     53   \n",
       "2957  G5300070  2014-2018     NaN       NaN  Washington     53   \n",
       "2958  G5300090  2014-2018     NaN       NaN  Washington     53   \n",
       "\n",
       "              COUNTY COUNTYA COUSUBA PLACEA  ... AJY9M017 AJZAM001 AJ0EM001  \\\n",
       "2954    Adams County     001     NaN    NaN  ...       60     5961     1088   \n",
       "2955   Asotin County     003     NaN    NaN  ...       85     2558     1546   \n",
       "2956   Benton County     005     NaN    NaN  ...      358     2031      666   \n",
       "2957   Chelan County     007     NaN    NaN  ...      217     2615     1085   \n",
       "2958  Clallam County     009     NaN    NaN  ...      192     1998      952   \n",
       "\n",
       "     AJ1CM001 AJ1CM002 AJ1CM003 AJ1CM004 AJ1CM005 AJ1CM006 AJ1CM007  \n",
       "2954       90      298      298      317      181       19      279  \n",
       "2955       97      366      366      410      211       22      370  \n",
       "2956      290     1074     1060     1091      521      111     1068  \n",
       "2957      202      807      810      814      357       37      826  \n",
       "2958      191      758      746      799      274       82      791  \n",
       "\n",
       "[5 rows x 108 columns]"
      ]
     },
     "execution_count": 40,
     "metadata": {},
     "output_type": "execute_result"
    }
   ],
   "source": [
    "wa_counties.head()"
   ]
  },
  {
   "cell_type": "code",
   "execution_count": 41,
   "metadata": {},
   "outputs": [
    {
     "data": {
      "text/html": [
       "<div>\n",
       "<style scoped>\n",
       "    .dataframe tbody tr th:only-of-type {\n",
       "        vertical-align: middle;\n",
       "    }\n",
       "\n",
       "    .dataframe tbody tr th {\n",
       "        vertical-align: top;\n",
       "    }\n",
       "\n",
       "    .dataframe thead th {\n",
       "        text-align: right;\n",
       "    }\n",
       "</style>\n",
       "<table border=\"1\" class=\"dataframe\">\n",
       "  <thead>\n",
       "    <tr style=\"text-align: right;\">\n",
       "      <th></th>\n",
       "      <th>county</th>\n",
       "      <th>population</th>\n",
       "    </tr>\n",
       "  </thead>\n",
       "  <tbody>\n",
       "    <tr>\n",
       "      <th>2954</th>\n",
       "      <td>Adams County</td>\n",
       "      <td>19452</td>\n",
       "    </tr>\n",
       "    <tr>\n",
       "      <th>2955</th>\n",
       "      <td>Asotin County</td>\n",
       "      <td>22337</td>\n",
       "    </tr>\n",
       "    <tr>\n",
       "      <th>2956</th>\n",
       "      <td>Benton County</td>\n",
       "      <td>194168</td>\n",
       "    </tr>\n",
       "    <tr>\n",
       "      <th>2957</th>\n",
       "      <td>Chelan County</td>\n",
       "      <td>75757</td>\n",
       "    </tr>\n",
       "    <tr>\n",
       "      <th>2958</th>\n",
       "      <td>Clallam County</td>\n",
       "      <td>74487</td>\n",
       "    </tr>\n",
       "    <tr>\n",
       "      <th>2959</th>\n",
       "      <td>Clark County</td>\n",
       "      <td>465384</td>\n",
       "    </tr>\n",
       "    <tr>\n",
       "      <th>2960</th>\n",
       "      <td>Columbia County</td>\n",
       "      <td>4001</td>\n",
       "    </tr>\n",
       "    <tr>\n",
       "      <th>2961</th>\n",
       "      <td>Cowlitz County</td>\n",
       "      <td>105112</td>\n",
       "    </tr>\n",
       "    <tr>\n",
       "      <th>2962</th>\n",
       "      <td>Douglas County</td>\n",
       "      <td>41371</td>\n",
       "    </tr>\n",
       "    <tr>\n",
       "      <th>2963</th>\n",
       "      <td>Ferry County</td>\n",
       "      <td>7576</td>\n",
       "    </tr>\n",
       "    <tr>\n",
       "      <th>2964</th>\n",
       "      <td>Franklin County</td>\n",
       "      <td>90660</td>\n",
       "    </tr>\n",
       "    <tr>\n",
       "      <th>2965</th>\n",
       "      <td>Garfield County</td>\n",
       "      <td>2224</td>\n",
       "    </tr>\n",
       "    <tr>\n",
       "      <th>2966</th>\n",
       "      <td>Grant County</td>\n",
       "      <td>94860</td>\n",
       "    </tr>\n",
       "    <tr>\n",
       "      <th>2967</th>\n",
       "      <td>Grays Harbor County</td>\n",
       "      <td>71967</td>\n",
       "    </tr>\n",
       "    <tr>\n",
       "      <th>2968</th>\n",
       "      <td>Island County</td>\n",
       "      <td>81636</td>\n",
       "    </tr>\n",
       "    <tr>\n",
       "      <th>2969</th>\n",
       "      <td>Jefferson County</td>\n",
       "      <td>30856</td>\n",
       "    </tr>\n",
       "    <tr>\n",
       "      <th>2970</th>\n",
       "      <td>King County</td>\n",
       "      <td>2163257</td>\n",
       "    </tr>\n",
       "    <tr>\n",
       "      <th>2971</th>\n",
       "      <td>Kitsap County</td>\n",
       "      <td>262475</td>\n",
       "    </tr>\n",
       "    <tr>\n",
       "      <th>2972</th>\n",
       "      <td>Kittitas County</td>\n",
       "      <td>44825</td>\n",
       "    </tr>\n",
       "    <tr>\n",
       "      <th>2973</th>\n",
       "      <td>Klickitat County</td>\n",
       "      <td>21396</td>\n",
       "    </tr>\n",
       "    <tr>\n",
       "      <th>2974</th>\n",
       "      <td>Lewis County</td>\n",
       "      <td>76947</td>\n",
       "    </tr>\n",
       "    <tr>\n",
       "      <th>2975</th>\n",
       "      <td>Lincoln County</td>\n",
       "      <td>10435</td>\n",
       "    </tr>\n",
       "    <tr>\n",
       "      <th>2976</th>\n",
       "      <td>Mason County</td>\n",
       "      <td>62627</td>\n",
       "    </tr>\n",
       "    <tr>\n",
       "      <th>2977</th>\n",
       "      <td>Okanogan County</td>\n",
       "      <td>41638</td>\n",
       "    </tr>\n",
       "    <tr>\n",
       "      <th>2978</th>\n",
       "      <td>Pacific County</td>\n",
       "      <td>21281</td>\n",
       "    </tr>\n",
       "    <tr>\n",
       "      <th>2979</th>\n",
       "      <td>Pend Oreille County</td>\n",
       "      <td>13219</td>\n",
       "    </tr>\n",
       "    <tr>\n",
       "      <th>2980</th>\n",
       "      <td>Pierce County</td>\n",
       "      <td>859840</td>\n",
       "    </tr>\n",
       "    <tr>\n",
       "      <th>2981</th>\n",
       "      <td>San Juan County</td>\n",
       "      <td>16473</td>\n",
       "    </tr>\n",
       "    <tr>\n",
       "      <th>2982</th>\n",
       "      <td>Skagit County</td>\n",
       "      <td>123907</td>\n",
       "    </tr>\n",
       "    <tr>\n",
       "      <th>2983</th>\n",
       "      <td>Skamania County</td>\n",
       "      <td>11620</td>\n",
       "    </tr>\n",
       "    <tr>\n",
       "      <th>2984</th>\n",
       "      <td>Snohomish County</td>\n",
       "      <td>786620</td>\n",
       "    </tr>\n",
       "    <tr>\n",
       "      <th>2985</th>\n",
       "      <td>Spokane County</td>\n",
       "      <td>497875</td>\n",
       "    </tr>\n",
       "    <tr>\n",
       "      <th>2986</th>\n",
       "      <td>Stevens County</td>\n",
       "      <td>44214</td>\n",
       "    </tr>\n",
       "    <tr>\n",
       "      <th>2987</th>\n",
       "      <td>Thurston County</td>\n",
       "      <td>274684</td>\n",
       "    </tr>\n",
       "    <tr>\n",
       "      <th>2988</th>\n",
       "      <td>Wahkiakum County</td>\n",
       "      <td>4189</td>\n",
       "    </tr>\n",
       "    <tr>\n",
       "      <th>2989</th>\n",
       "      <td>Walla Walla County</td>\n",
       "      <td>60236</td>\n",
       "    </tr>\n",
       "    <tr>\n",
       "      <th>2990</th>\n",
       "      <td>Whatcom County</td>\n",
       "      <td>216812</td>\n",
       "    </tr>\n",
       "    <tr>\n",
       "      <th>2991</th>\n",
       "      <td>Whitman County</td>\n",
       "      <td>48593</td>\n",
       "    </tr>\n",
       "    <tr>\n",
       "      <th>2992</th>\n",
       "      <td>Yakima County</td>\n",
       "      <td>249325</td>\n",
       "    </tr>\n",
       "  </tbody>\n",
       "</table>\n",
       "</div>"
      ],
      "text/plain": [
       "                   county  population\n",
       "2954         Adams County       19452\n",
       "2955        Asotin County       22337\n",
       "2956        Benton County      194168\n",
       "2957        Chelan County       75757\n",
       "2958       Clallam County       74487\n",
       "2959         Clark County      465384\n",
       "2960      Columbia County        4001\n",
       "2961       Cowlitz County      105112\n",
       "2962       Douglas County       41371\n",
       "2963         Ferry County        7576\n",
       "2964      Franklin County       90660\n",
       "2965      Garfield County        2224\n",
       "2966         Grant County       94860\n",
       "2967  Grays Harbor County       71967\n",
       "2968        Island County       81636\n",
       "2969     Jefferson County       30856\n",
       "2970          King County     2163257\n",
       "2971        Kitsap County      262475\n",
       "2972      Kittitas County       44825\n",
       "2973     Klickitat County       21396\n",
       "2974         Lewis County       76947\n",
       "2975       Lincoln County       10435\n",
       "2976         Mason County       62627\n",
       "2977      Okanogan County       41638\n",
       "2978       Pacific County       21281\n",
       "2979  Pend Oreille County       13219\n",
       "2980        Pierce County      859840\n",
       "2981      San Juan County       16473\n",
       "2982        Skagit County      123907\n",
       "2983      Skamania County       11620\n",
       "2984     Snohomish County      786620\n",
       "2985       Spokane County      497875\n",
       "2986       Stevens County       44214\n",
       "2987      Thurston County      274684\n",
       "2988     Wahkiakum County        4189\n",
       "2989   Walla Walla County       60236\n",
       "2990       Whatcom County      216812\n",
       "2991       Whitman County       48593\n",
       "2992        Yakima County      249325"
      ]
     },
     "execution_count": 41,
     "metadata": {},
     "output_type": "execute_result"
    }
   ],
   "source": [
    "c_populations = wa_counties.loc[:,['COUNTY','AJWME001']]\n",
    "c_populations.columns = ['county', 'population']\n",
    "c_populations['population'] = c_populations['population'].astype(int)\n",
    "c_populations"
   ]
  },
  {
   "cell_type": "code",
   "execution_count": 42,
   "metadata": {},
   "outputs": [],
   "source": [
    "c_house_income = wa_counties.loc[:,'AJY9E001':'AJY9E017'].astype(int)\n",
    "\n",
    "c_house_income.columns = ['Total',\n",
    "        'Less than $10,000',\n",
    "        '$10,000 to $14,999',\n",
    "        '$15,000 to $19,999',\n",
    "        '$20,000 to $24,999',\n",
    "        '$25,000 to $29,999',\n",
    "        '$30,000 to $34,999',\n",
    "        '$35,000 to $39,999',\n",
    "        '$40,000 to $44,999',\n",
    "        '$45,000 to $49,999',\n",
    "        '$50,000 to $59,999',\n",
    "        '$60,000 to $74,999',\n",
    "        '$75,000 to $99,999',\n",
    "        '$100,000 to $124,999',\n",
    "        '$125,000 to $149,999',\n",
    "        '$150,000 to $199,999',\n",
    "        '$200,000 or more']\n",
    "c_house_income.columns = c_house_income.columns.str.replace(' ', '_').str.replace('$', '').str.lower()\n",
    "\n",
    "# calculate average people per household\n",
    "c_populations['avg_household_count'] = c_populations['population']/c_house_income['total']"
   ]
  },
  {
   "cell_type": "markdown",
   "metadata": {},
   "source": [
    "### Household Income: Low-middle income based on WA median income"
   ]
  },
  {
   "cell_type": "code",
   "execution_count": 66,
   "metadata": {},
   "outputs": [],
   "source": [
    "wa_counties_lm_count = c_populations.copy()\n",
    "wa_counties_lm_count['low_mid_threshold'] = median_house_income * .8\n",
    "wa_counties_lm_count = est_households(wa_counties_lm_count, 'low_mid', income_cols, c_house_income)\n",
    "wa_counties_lm_count['n_households'] = c_house_income['total']"
   ]
  },
  {
   "cell_type": "code",
   "execution_count": 67,
   "metadata": {},
   "outputs": [
    {
     "data": {
      "text/html": [
       "<div>\n",
       "<style scoped>\n",
       "    .dataframe tbody tr th:only-of-type {\n",
       "        vertical-align: middle;\n",
       "    }\n",
       "\n",
       "    .dataframe tbody tr th {\n",
       "        vertical-align: top;\n",
       "    }\n",
       "\n",
       "    .dataframe thead th {\n",
       "        text-align: right;\n",
       "    }\n",
       "</style>\n",
       "<table border=\"1\" class=\"dataframe\">\n",
       "  <thead>\n",
       "    <tr style=\"text-align: right;\">\n",
       "      <th></th>\n",
       "      <th>county</th>\n",
       "      <th>population</th>\n",
       "      <th>avg_household_count</th>\n",
       "      <th>low_mid_threshold</th>\n",
       "      <th>total_hh_low_mid</th>\n",
       "      <th>n_households</th>\n",
       "    </tr>\n",
       "  </thead>\n",
       "  <tbody>\n",
       "    <tr>\n",
       "      <th>2954</th>\n",
       "      <td>Adams County</td>\n",
       "      <td>19452</td>\n",
       "      <td>3.307601</td>\n",
       "      <td>56092.8</td>\n",
       "      <td>3232.016602</td>\n",
       "      <td>5881</td>\n",
       "    </tr>\n",
       "    <tr>\n",
       "      <th>2955</th>\n",
       "      <td>Asotin County</td>\n",
       "      <td>22337</td>\n",
       "      <td>2.435612</td>\n",
       "      <td>56092.8</td>\n",
       "      <td>5059.782658</td>\n",
       "      <td>9171</td>\n",
       "    </tr>\n",
       "    <tr>\n",
       "      <th>2956</th>\n",
       "      <td>Benton County</td>\n",
       "      <td>194168</td>\n",
       "      <td>2.735416</td>\n",
       "      <td>56092.8</td>\n",
       "      <td>29901.954375</td>\n",
       "      <td>70983</td>\n",
       "    </tr>\n",
       "    <tr>\n",
       "      <th>2957</th>\n",
       "      <td>Chelan County</td>\n",
       "      <td>75757</td>\n",
       "      <td>2.701940</td>\n",
       "      <td>56092.8</td>\n",
       "      <td>13952.707191</td>\n",
       "      <td>28038</td>\n",
       "    </tr>\n",
       "    <tr>\n",
       "      <th>2958</th>\n",
       "      <td>Clallam County</td>\n",
       "      <td>74487</td>\n",
       "      <td>2.275663</td>\n",
       "      <td>56092.8</td>\n",
       "      <td>17998.832043</td>\n",
       "      <td>32732</td>\n",
       "    </tr>\n",
       "    <tr>\n",
       "      <th>2959</th>\n",
       "      <td>Clark County</td>\n",
       "      <td>465384</td>\n",
       "      <td>2.713261</td>\n",
       "      <td>56092.8</td>\n",
       "      <td>66137.705411</td>\n",
       "      <td>171522</td>\n",
       "    </tr>\n",
       "    <tr>\n",
       "      <th>2960</th>\n",
       "      <td>Columbia County</td>\n",
       "      <td>4001</td>\n",
       "      <td>2.275882</td>\n",
       "      <td>56092.8</td>\n",
       "      <td>918.715412</td>\n",
       "      <td>1758</td>\n",
       "    </tr>\n",
       "    <tr>\n",
       "      <th>2961</th>\n",
       "      <td>Cowlitz County</td>\n",
       "      <td>105112</td>\n",
       "      <td>2.539121</td>\n",
       "      <td>56092.8</td>\n",
       "      <td>21812.079988</td>\n",
       "      <td>41397</td>\n",
       "    </tr>\n",
       "    <tr>\n",
       "      <th>2962</th>\n",
       "      <td>Douglas County</td>\n",
       "      <td>41371</td>\n",
       "      <td>2.746349</td>\n",
       "      <td>56092.8</td>\n",
       "      <td>6941.202580</td>\n",
       "      <td>15064</td>\n",
       "    </tr>\n",
       "    <tr>\n",
       "      <th>2963</th>\n",
       "      <td>Ferry County</td>\n",
       "      <td>7576</td>\n",
       "      <td>2.446238</td>\n",
       "      <td>56092.8</td>\n",
       "      <td>1944.696210</td>\n",
       "      <td>3097</td>\n",
       "    </tr>\n",
       "    <tr>\n",
       "      <th>2964</th>\n",
       "      <td>Franklin County</td>\n",
       "      <td>90660</td>\n",
       "      <td>3.445052</td>\n",
       "      <td>56092.8</td>\n",
       "      <td>11668.806721</td>\n",
       "      <td>26316</td>\n",
       "    </tr>\n",
       "    <tr>\n",
       "      <th>2965</th>\n",
       "      <td>Garfield County</td>\n",
       "      <td>2224</td>\n",
       "      <td>2.230692</td>\n",
       "      <td>56092.8</td>\n",
       "      <td>553.511571</td>\n",
       "      <td>997</td>\n",
       "    </tr>\n",
       "    <tr>\n",
       "      <th>2966</th>\n",
       "      <td>Grant County</td>\n",
       "      <td>94860</td>\n",
       "      <td>3.094842</td>\n",
       "      <td>56092.8</td>\n",
       "      <td>15611.152435</td>\n",
       "      <td>30651</td>\n",
       "    </tr>\n",
       "    <tr>\n",
       "      <th>2967</th>\n",
       "      <td>Grays Harbor County</td>\n",
       "      <td>71967</td>\n",
       "      <td>2.546333</td>\n",
       "      <td>56092.8</td>\n",
       "      <td>16112.594579</td>\n",
       "      <td>28263</td>\n",
       "    </tr>\n",
       "    <tr>\n",
       "      <th>2968</th>\n",
       "      <td>Island County</td>\n",
       "      <td>81636</td>\n",
       "      <td>2.375626</td>\n",
       "      <td>56092.8</td>\n",
       "      <td>14545.022802</td>\n",
       "      <td>34364</td>\n",
       "    </tr>\n",
       "    <tr>\n",
       "      <th>2969</th>\n",
       "      <td>Jefferson County</td>\n",
       "      <td>30856</td>\n",
       "      <td>2.167006</td>\n",
       "      <td>56092.8</td>\n",
       "      <td>7284.858626</td>\n",
       "      <td>14239</td>\n",
       "    </tr>\n",
       "    <tr>\n",
       "      <th>2970</th>\n",
       "      <td>King County</td>\n",
       "      <td>2163257</td>\n",
       "      <td>2.499064</td>\n",
       "      <td>56092.8</td>\n",
       "      <td>273069.495550</td>\n",
       "      <td>865627</td>\n",
       "    </tr>\n",
       "    <tr>\n",
       "      <th>2971</th>\n",
       "      <td>Kitsap County</td>\n",
       "      <td>262475</td>\n",
       "      <td>2.581840</td>\n",
       "      <td>56092.8</td>\n",
       "      <td>39215.574697</td>\n",
       "      <td>101662</td>\n",
       "    </tr>\n",
       "    <tr>\n",
       "      <th>2972</th>\n",
       "      <td>Kittitas County</td>\n",
       "      <td>44825</td>\n",
       "      <td>2.489863</td>\n",
       "      <td>56092.8</td>\n",
       "      <td>9240.338334</td>\n",
       "      <td>18003</td>\n",
       "    </tr>\n",
       "    <tr>\n",
       "      <th>2973</th>\n",
       "      <td>Klickitat County</td>\n",
       "      <td>21396</td>\n",
       "      <td>2.505680</td>\n",
       "      <td>56092.8</td>\n",
       "      <td>4391.354015</td>\n",
       "      <td>8539</td>\n",
       "    </tr>\n",
       "    <tr>\n",
       "      <th>2974</th>\n",
       "      <td>Lewis County</td>\n",
       "      <td>76947</td>\n",
       "      <td>2.542694</td>\n",
       "      <td>56092.8</td>\n",
       "      <td>16456.579738</td>\n",
       "      <td>30262</td>\n",
       "    </tr>\n",
       "    <tr>\n",
       "      <th>2975</th>\n",
       "      <td>Lincoln County</td>\n",
       "      <td>10435</td>\n",
       "      <td>2.326644</td>\n",
       "      <td>56092.8</td>\n",
       "      <td>2421.347895</td>\n",
       "      <td>4485</td>\n",
       "    </tr>\n",
       "    <tr>\n",
       "      <th>2976</th>\n",
       "      <td>Mason County</td>\n",
       "      <td>62627</td>\n",
       "      <td>2.661016</td>\n",
       "      <td>56092.8</td>\n",
       "      <td>11850.152855</td>\n",
       "      <td>23535</td>\n",
       "    </tr>\n",
       "    <tr>\n",
       "      <th>2977</th>\n",
       "      <td>Okanogan County</td>\n",
       "      <td>41638</td>\n",
       "      <td>2.375649</td>\n",
       "      <td>56092.8</td>\n",
       "      <td>10562.654785</td>\n",
       "      <td>17527</td>\n",
       "    </tr>\n",
       "    <tr>\n",
       "      <th>2978</th>\n",
       "      <td>Pacific County</td>\n",
       "      <td>21281</td>\n",
       "      <td>2.341917</td>\n",
       "      <td>56092.8</td>\n",
       "      <td>5520.772177</td>\n",
       "      <td>9087</td>\n",
       "    </tr>\n",
       "    <tr>\n",
       "      <th>2979</th>\n",
       "      <td>Pend Oreille County</td>\n",
       "      <td>13219</td>\n",
       "      <td>2.286233</td>\n",
       "      <td>56092.8</td>\n",
       "      <td>3320.012241</td>\n",
       "      <td>5782</td>\n",
       "    </tr>\n",
       "    <tr>\n",
       "      <th>2980</th>\n",
       "      <td>Pierce County</td>\n",
       "      <td>859840</td>\n",
       "      <td>2.706461</td>\n",
       "      <td>56092.8</td>\n",
       "      <td>129196.912331</td>\n",
       "      <td>317699</td>\n",
       "    </tr>\n",
       "    <tr>\n",
       "      <th>2981</th>\n",
       "      <td>San Juan County</td>\n",
       "      <td>16473</td>\n",
       "      <td>2.052710</td>\n",
       "      <td>56092.8</td>\n",
       "      <td>3731.135334</td>\n",
       "      <td>8025</td>\n",
       "    </tr>\n",
       "    <tr>\n",
       "      <th>2982</th>\n",
       "      <td>Skagit County</td>\n",
       "      <td>123907</td>\n",
       "      <td>2.584788</td>\n",
       "      <td>56092.8</td>\n",
       "      <td>21374.104890</td>\n",
       "      <td>47937</td>\n",
       "    </tr>\n",
       "    <tr>\n",
       "      <th>2983</th>\n",
       "      <td>Skamania County</td>\n",
       "      <td>11620</td>\n",
       "      <td>2.480256</td>\n",
       "      <td>56092.8</td>\n",
       "      <td>2233.596260</td>\n",
       "      <td>4685</td>\n",
       "    </tr>\n",
       "    <tr>\n",
       "      <th>2984</th>\n",
       "      <td>Snohomish County</td>\n",
       "      <td>786620</td>\n",
       "      <td>2.714945</td>\n",
       "      <td>56092.8</td>\n",
       "      <td>93568.546755</td>\n",
       "      <td>289737</td>\n",
       "    </tr>\n",
       "    <tr>\n",
       "      <th>2985</th>\n",
       "      <td>Spokane County</td>\n",
       "      <td>497875</td>\n",
       "      <td>2.508325</td>\n",
       "      <td>56092.8</td>\n",
       "      <td>100835.871347</td>\n",
       "      <td>198489</td>\n",
       "    </tr>\n",
       "    <tr>\n",
       "      <th>2986</th>\n",
       "      <td>Stevens County</td>\n",
       "      <td>44214</td>\n",
       "      <td>2.536224</td>\n",
       "      <td>56092.8</td>\n",
       "      <td>9817.539994</td>\n",
       "      <td>17433</td>\n",
       "    </tr>\n",
       "    <tr>\n",
       "      <th>2987</th>\n",
       "      <td>Thurston County</td>\n",
       "      <td>274684</td>\n",
       "      <td>2.541723</td>\n",
       "      <td>56092.8</td>\n",
       "      <td>42691.626683</td>\n",
       "      <td>108070</td>\n",
       "    </tr>\n",
       "    <tr>\n",
       "      <th>2988</th>\n",
       "      <td>Wahkiakum County</td>\n",
       "      <td>4189</td>\n",
       "      <td>2.271692</td>\n",
       "      <td>56092.8</td>\n",
       "      <td>938.742914</td>\n",
       "      <td>1844</td>\n",
       "    </tr>\n",
       "    <tr>\n",
       "      <th>2989</th>\n",
       "      <td>Walla Walla County</td>\n",
       "      <td>60236</td>\n",
       "      <td>2.700681</td>\n",
       "      <td>56092.8</td>\n",
       "      <td>11047.021882</td>\n",
       "      <td>22304</td>\n",
       "    </tr>\n",
       "    <tr>\n",
       "      <th>2990</th>\n",
       "      <td>Whatcom County</td>\n",
       "      <td>216812</td>\n",
       "      <td>2.550489</td>\n",
       "      <td>56092.8</td>\n",
       "      <td>40064.080568</td>\n",
       "      <td>85008</td>\n",
       "    </tr>\n",
       "    <tr>\n",
       "      <th>2991</th>\n",
       "      <td>Whitman County</td>\n",
       "      <td>48593</td>\n",
       "      <td>2.713177</td>\n",
       "      <td>56092.8</td>\n",
       "      <td>10937.285509</td>\n",
       "      <td>17910</td>\n",
       "    </tr>\n",
       "    <tr>\n",
       "      <th>2992</th>\n",
       "      <td>Yakima County</td>\n",
       "      <td>249325</td>\n",
       "      <td>3.029465</td>\n",
       "      <td>56092.8</td>\n",
       "      <td>45772.560276</td>\n",
       "      <td>82300</td>\n",
       "    </tr>\n",
       "  </tbody>\n",
       "</table>\n",
       "</div>"
      ],
      "text/plain": [
       "                   county  population  avg_household_count  low_mid_threshold  \\\n",
       "2954         Adams County       19452             3.307601            56092.8   \n",
       "2955        Asotin County       22337             2.435612            56092.8   \n",
       "2956        Benton County      194168             2.735416            56092.8   \n",
       "2957        Chelan County       75757             2.701940            56092.8   \n",
       "2958       Clallam County       74487             2.275663            56092.8   \n",
       "2959         Clark County      465384             2.713261            56092.8   \n",
       "2960      Columbia County        4001             2.275882            56092.8   \n",
       "2961       Cowlitz County      105112             2.539121            56092.8   \n",
       "2962       Douglas County       41371             2.746349            56092.8   \n",
       "2963         Ferry County        7576             2.446238            56092.8   \n",
       "2964      Franklin County       90660             3.445052            56092.8   \n",
       "2965      Garfield County        2224             2.230692            56092.8   \n",
       "2966         Grant County       94860             3.094842            56092.8   \n",
       "2967  Grays Harbor County       71967             2.546333            56092.8   \n",
       "2968        Island County       81636             2.375626            56092.8   \n",
       "2969     Jefferson County       30856             2.167006            56092.8   \n",
       "2970          King County     2163257             2.499064            56092.8   \n",
       "2971        Kitsap County      262475             2.581840            56092.8   \n",
       "2972      Kittitas County       44825             2.489863            56092.8   \n",
       "2973     Klickitat County       21396             2.505680            56092.8   \n",
       "2974         Lewis County       76947             2.542694            56092.8   \n",
       "2975       Lincoln County       10435             2.326644            56092.8   \n",
       "2976         Mason County       62627             2.661016            56092.8   \n",
       "2977      Okanogan County       41638             2.375649            56092.8   \n",
       "2978       Pacific County       21281             2.341917            56092.8   \n",
       "2979  Pend Oreille County       13219             2.286233            56092.8   \n",
       "2980        Pierce County      859840             2.706461            56092.8   \n",
       "2981      San Juan County       16473             2.052710            56092.8   \n",
       "2982        Skagit County      123907             2.584788            56092.8   \n",
       "2983      Skamania County       11620             2.480256            56092.8   \n",
       "2984     Snohomish County      786620             2.714945            56092.8   \n",
       "2985       Spokane County      497875             2.508325            56092.8   \n",
       "2986       Stevens County       44214             2.536224            56092.8   \n",
       "2987      Thurston County      274684             2.541723            56092.8   \n",
       "2988     Wahkiakum County        4189             2.271692            56092.8   \n",
       "2989   Walla Walla County       60236             2.700681            56092.8   \n",
       "2990       Whatcom County      216812             2.550489            56092.8   \n",
       "2991       Whitman County       48593             2.713177            56092.8   \n",
       "2992        Yakima County      249325             3.029465            56092.8   \n",
       "\n",
       "      total_hh_low_mid  n_households  \n",
       "2954       3232.016602          5881  \n",
       "2955       5059.782658          9171  \n",
       "2956      29901.954375         70983  \n",
       "2957      13952.707191         28038  \n",
       "2958      17998.832043         32732  \n",
       "2959      66137.705411        171522  \n",
       "2960        918.715412          1758  \n",
       "2961      21812.079988         41397  \n",
       "2962       6941.202580         15064  \n",
       "2963       1944.696210          3097  \n",
       "2964      11668.806721         26316  \n",
       "2965        553.511571           997  \n",
       "2966      15611.152435         30651  \n",
       "2967      16112.594579         28263  \n",
       "2968      14545.022802         34364  \n",
       "2969       7284.858626         14239  \n",
       "2970     273069.495550        865627  \n",
       "2971      39215.574697        101662  \n",
       "2972       9240.338334         18003  \n",
       "2973       4391.354015          8539  \n",
       "2974      16456.579738         30262  \n",
       "2975       2421.347895          4485  \n",
       "2976      11850.152855         23535  \n",
       "2977      10562.654785         17527  \n",
       "2978       5520.772177          9087  \n",
       "2979       3320.012241          5782  \n",
       "2980     129196.912331        317699  \n",
       "2981       3731.135334          8025  \n",
       "2982      21374.104890         47937  \n",
       "2983       2233.596260          4685  \n",
       "2984      93568.546755        289737  \n",
       "2985     100835.871347        198489  \n",
       "2986       9817.539994         17433  \n",
       "2987      42691.626683        108070  \n",
       "2988        938.742914          1844  \n",
       "2989      11047.021882         22304  \n",
       "2990      40064.080568         85008  \n",
       "2991      10937.285509         17910  \n",
       "2992      45772.560276         82300  "
      ]
     },
     "execution_count": 67,
     "metadata": {},
     "output_type": "execute_result"
    }
   ],
   "source": [
    "wa_counties_lm_count"
   ]
  },
  {
   "cell_type": "code",
   "execution_count": 68,
   "metadata": {},
   "outputs": [],
   "source": [
    "# visualize number of households across WA counties\n",
    "# load shapefiles (https://geo.wa.gov/datasets/12712f465fc44fb58328c6e0255ca27e_11)\n",
    "county_shapes = gpd.read_file('../data/WA_County_Boundaries.shp')"
   ]
  },
  {
   "cell_type": "code",
   "execution_count": 69,
   "metadata": {},
   "outputs": [
    {
     "data": {
      "text/html": [
       "<div>\n",
       "<style scoped>\n",
       "    .dataframe tbody tr th:only-of-type {\n",
       "        vertical-align: middle;\n",
       "    }\n",
       "\n",
       "    .dataframe tbody tr th {\n",
       "        vertical-align: top;\n",
       "    }\n",
       "\n",
       "    .dataframe thead th {\n",
       "        text-align: right;\n",
       "    }\n",
       "</style>\n",
       "<table border=\"1\" class=\"dataframe\">\n",
       "  <thead>\n",
       "    <tr style=\"text-align: right;\">\n",
       "      <th></th>\n",
       "      <th>OBJECTID</th>\n",
       "      <th>JURISDICT_</th>\n",
       "      <th>JURISDIC_1</th>\n",
       "      <th>JURISDIC_2</th>\n",
       "      <th>JURISDIC_3</th>\n",
       "      <th>JURISDIC_4</th>\n",
       "      <th>JURISDIC_5</th>\n",
       "      <th>JURISDIC_6</th>\n",
       "      <th>EDIT_DATE</th>\n",
       "      <th>EDIT_STATU</th>\n",
       "      <th>EDIT_WHO</th>\n",
       "      <th>geometry</th>\n",
       "    </tr>\n",
       "  </thead>\n",
       "  <tbody>\n",
       "    <tr>\n",
       "      <th>0</th>\n",
       "      <td>2480</td>\n",
       "      <td>25</td>\n",
       "      <td>4</td>\n",
       "      <td>Grant</td>\n",
       "      <td>Grant County</td>\n",
       "      <td>13</td>\n",
       "      <td>53025</td>\n",
       "      <td>None</td>\n",
       "      <td>2018-03-14</td>\n",
       "      <td>1</td>\n",
       "      <td>TSTE490</td>\n",
       "      <td>POLYGON ((-13245041.204 6100462.041, -13245049...</td>\n",
       "    </tr>\n",
       "    <tr>\n",
       "      <th>1</th>\n",
       "      <td>2492</td>\n",
       "      <td>15</td>\n",
       "      <td>4</td>\n",
       "      <td>Lincoln</td>\n",
       "      <td>Lincoln County</td>\n",
       "      <td>22</td>\n",
       "      <td>53043</td>\n",
       "      <td>None</td>\n",
       "      <td>2015-09-02</td>\n",
       "      <td>1</td>\n",
       "      <td>JDUG490</td>\n",
       "      <td>POLYGON ((-13228357.287 6097273.339, -13228274...</td>\n",
       "    </tr>\n",
       "    <tr>\n",
       "      <th>2</th>\n",
       "      <td>5506</td>\n",
       "      <td>26</td>\n",
       "      <td>4</td>\n",
       "      <td>Whitman</td>\n",
       "      <td>Whitman County</td>\n",
       "      <td>38</td>\n",
       "      <td>53075</td>\n",
       "      <td>None</td>\n",
       "      <td>2018-03-14</td>\n",
       "      <td>1</td>\n",
       "      <td>TSTE490</td>\n",
       "      <td>POLYGON ((-13028819.632 5984496.998, -13028817...</td>\n",
       "    </tr>\n",
       "    <tr>\n",
       "      <th>3</th>\n",
       "      <td>5508</td>\n",
       "      <td>36</td>\n",
       "      <td>4</td>\n",
       "      <td>Cowlitz</td>\n",
       "      <td>Cowlitz County</td>\n",
       "      <td>8</td>\n",
       "      <td>53015</td>\n",
       "      <td>None</td>\n",
       "      <td>2018-03-14</td>\n",
       "      <td>1</td>\n",
       "      <td>TSTE490</td>\n",
       "      <td>POLYGON ((-13702664.169 5842750.924, -13700419...</td>\n",
       "    </tr>\n",
       "    <tr>\n",
       "      <th>4</th>\n",
       "      <td>6669</td>\n",
       "      <td>16</td>\n",
       "      <td>4</td>\n",
       "      <td>Chelan</td>\n",
       "      <td>Chelan County</td>\n",
       "      <td>4</td>\n",
       "      <td>53007</td>\n",
       "      <td>None</td>\n",
       "      <td>2017-12-13</td>\n",
       "      <td>1</td>\n",
       "      <td>TSTE490</td>\n",
       "      <td>POLYGON ((-13451695.289 6198988.419, -13451524...</td>\n",
       "    </tr>\n",
       "  </tbody>\n",
       "</table>\n",
       "</div>"
      ],
      "text/plain": [
       "   OBJECTID  JURISDICT_  JURISDIC_1 JURISDIC_2      JURISDIC_3  JURISDIC_4  \\\n",
       "0      2480          25           4      Grant    Grant County          13   \n",
       "1      2492          15           4    Lincoln  Lincoln County          22   \n",
       "2      5506          26           4    Whitman  Whitman County          38   \n",
       "3      5508          36           4    Cowlitz  Cowlitz County           8   \n",
       "4      6669          16           4     Chelan   Chelan County           4   \n",
       "\n",
       "   JURISDIC_5 JURISDIC_6   EDIT_DATE  EDIT_STATU EDIT_WHO  \\\n",
       "0       53025       None  2018-03-14           1  TSTE490   \n",
       "1       53043       None  2015-09-02           1  JDUG490   \n",
       "2       53075       None  2018-03-14           1  TSTE490   \n",
       "3       53015       None  2018-03-14           1  TSTE490   \n",
       "4       53007       None  2017-12-13           1  TSTE490   \n",
       "\n",
       "                                            geometry  \n",
       "0  POLYGON ((-13245041.204 6100462.041, -13245049...  \n",
       "1  POLYGON ((-13228357.287 6097273.339, -13228274...  \n",
       "2  POLYGON ((-13028819.632 5984496.998, -13028817...  \n",
       "3  POLYGON ((-13702664.169 5842750.924, -13700419...  \n",
       "4  POLYGON ((-13451695.289 6198988.419, -13451524...  "
      ]
     },
     "execution_count": 69,
     "metadata": {},
     "output_type": "execute_result"
    }
   ],
   "source": [
    "county_shapes.head()"
   ]
  },
  {
   "cell_type": "code",
   "execution_count": 70,
   "metadata": {},
   "outputs": [],
   "source": [
    "county_shapes = county_shapes.merge(wa_counties_lm_count, left_on='JURISDIC_3', right_on='county', how='left')"
   ]
  },
  {
   "cell_type": "code",
   "execution_count": 71,
   "metadata": {},
   "outputs": [
    {
     "data": {
      "text/plain": [
       "<AxesSubplot:>"
      ]
     },
     "execution_count": 71,
     "metadata": {},
     "output_type": "execute_result"
    },
    {
     "data": {
      "image/png": "[encoded data removed]",
      "text/plain": [
       "<Figure size 432x288 with 1 Axes>"
      ]
     },
     "metadata": {
      "needs_background": "light"
     },
     "output_type": "display_data"
    }
   ],
   "source": [
    "county_shapes.plot(column='total_hh_low_mid')"
   ]
  },
  {
   "cell_type": "code",
   "execution_count": 73,
   "metadata": {},
   "outputs": [],
   "source": [
    "county_shapes['lm_rate'] = county_shapes['total_hh_low_mid']/county_shapes['n_households']"
   ]
  },
  {
   "cell_type": "code",
   "execution_count": 74,
   "metadata": {},
   "outputs": [
    {
     "data": {
      "text/plain": [
       "<AxesSubplot:>"
      ]
     },
     "execution_count": 74,
     "metadata": {},
     "output_type": "execute_result"
    },
    {
     "data": {
      "image/png": "[encoded data removed]",
      "text/plain": [
       "<Figure size 432x288 with 1 Axes>"
      ]
     },
     "metadata": {
      "needs_background": "light"
     },
     "output_type": "display_data"
    }
   ],
   "source": [
    "county_shapes.plot(column='lm_rate')"
   ]
  },
  {
   "cell_type": "markdown",
   "metadata": {},
   "source": [
    "### Household Income: Low-middle income based on county median income"
   ]
  },
  {
   "cell_type": "code",
   "execution_count": null,
   "metadata": {},
   "outputs": [],
   "source": [
    "c_median_house_income = wa_counties.loc[:, ['COUNTY','AJZAE001']]\n",
    "c_median_house_income.columns = ['county', 'med_house_income']\n",
    "c_median_house_income['med_house_income'] = c_median_house_income['med_house_income'].astype(int)\n",
    "c_median_house_income['low_threshold'] = .8 * c_median_house_income['med_house_income']\n",
    "c_median_house_income['v_low_threshold'] = .5 * c_median_house_income['med_house_income']\n",
    "c_median_house_income['x_low_threshold'] = .3 * c_median_house_income['med_house_income']\n",
    "c_median_house_income"
   ]
  },
  {
   "cell_type": "code",
   "execution_count": null,
   "metadata": {
    "scrolled": true
   },
   "outputs": [],
   "source": [
    "est_hh = c_median_house_income.copy()\n",
    "est_hh = est_households(est_hh, 'low', income_cols, c_house_income)\n",
    "est_hh = est_households(est_hh, 'v_low', income_cols, c_house_income)\n",
    "est_hh = est_households(est_hh, 'x_low', income_cols, c_house_income)"
   ]
  },
  {
   "cell_type": "code",
   "execution_count": null,
   "metadata": {},
   "outputs": [],
   "source": [
    "est_hh['population_low'] = round(est_hh['total_hh_low'] * c_populations['avg_household_count'], 0)\n",
    "est_hh['population_v_low'] = round(est_hh['total_hh_v_low'] * c_populations['avg_household_count'], 0)\n",
    "est_hh['population_x_low'] = round(est_hh['total_hh_x_low'] * c_populations['avg_household_count'], 0)"
   ]
  },
  {
   "cell_type": "code",
   "execution_count": null,
   "metadata": {},
   "outputs": [],
   "source": [
    "est_hh"
   ]
  },
  {
   "cell_type": "code",
   "execution_count": null,
   "metadata": {},
   "outputs": [],
   "source": [
    "print(f\"\"\"Total Washingtonians:\n",
    "low income (<80% of county median): {sum(est_hh['population_low'])}\n",
    "very low income (<50% of county median): {sum(est_hh['population_v_low'])}\n",
    "extra low income (<30% of county median): {sum(est_hh['population_x_low'])}\"\"\")"
   ]
  },
  {
   "cell_type": "code",
   "execution_count": null,
   "metadata": {},
   "outputs": [],
   "source": []
  }
 ],
 "metadata": {
  "kernelspec": {
   "display_name": "Python 3",
   "language": "python",
   "name": "python3"
  },
  "language_info": {
   "codemirror_mode": {
    "name": "ipython",
    "version": 3
   },
   "file_extension": ".py",
   "mimetype": "text/x-python",
   "name": "python",
   "nbconvert_exporter": "python",
   "pygments_lexer": "ipython3",
   "version": "3.8.5"
  }
 },
 "nbformat": 4,
 "nbformat_minor": 4
}
